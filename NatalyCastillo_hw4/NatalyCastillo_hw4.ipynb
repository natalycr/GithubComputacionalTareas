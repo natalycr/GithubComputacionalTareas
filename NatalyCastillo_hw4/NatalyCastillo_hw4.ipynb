{
 "metadata": {
  "name": "NatalyCastillo_hw4"
 },
 "nbformat": 3,
 "nbformat_minor": 0,
 "worksheets": [
  {
   "cells": [
    {
     "cell_type": "code",
     "collapsed": false,
     "input": [
      "% pylab inline\n",
      "import numpy as np\n",
      "import csv\n",
      "import sys\n",
      "import os.path\n",
      "import glob\n",
      "from scipy.optimize import curve_fit\n",
      "sys.path.append ('../hw_4/Brahe-3141-f')\n"
     ],
     "language": "python",
     "metadata": {},
     "outputs": [
      {
       "output_type": "stream",
       "stream": "stdout",
       "text": [
        "\n",
        "Welcome to pylab, a matplotlib-based Python environment [backend: module://IPython.zmq.pylab.backend_inline].\n",
        "For more information, type 'help(pylab)'.\n"
       ]
      }
     ],
     "prompt_number": 1
    },
    {
     "cell_type": "heading",
     "level": 3,
     "metadata": {},
     "source": [
      "se importan todos los archivos $.dat$ en un array llamada f. "
     ]
    },
    {
     "cell_type": "code",
     "collapsed": false,
     "input": [
      "f=glob.glob('*.dat')\n",
      "print type(f), len(f)\n",
      "show()"
     ],
     "language": "python",
     "metadata": {},
     "outputs": [
      {
       "output_type": "stream",
       "stream": "stdout",
       "text": [
        "<type 'list'> 1000\n"
       ]
      }
     ],
     "prompt_number": 2
    },
    {
     "cell_type": "heading",
     "level": 1,
     "metadata": {},
     "source": [
      "Funciones:"
     ]
    },
    {
     "cell_type": "heading",
     "level": 3,
     "metadata": {},
     "source": [
      "1) Traspone matrices"
     ]
    },
    {
     "cell_type": "code",
     "collapsed": false,
     "input": [
      "def traspuesta(Matriz, i, j): \n",
      "    tranMatx=np.zeros((j,i))\n",
      "    for m in range(j):\n",
      "        for k in range(i):\n",
      "            tranMatx[m,k]=Matriz[k,m]\n",
      "   \n",
      "    return tranMatx"
     ],
     "language": "python",
     "metadata": {},
     "outputs": [],
     "prompt_number": 3
    },
    {
     "cell_type": "heading",
     "level": 3,
     "metadata": {},
     "source": [
      "2) Multiplica matrices"
     ]
    },
    {
     "cell_type": "code",
     "collapsed": false,
     "input": [
      "def mulpMatriz(matrizA, matrizB, n, m):\n",
      "    \n",
      "    Mmult=np.zeros((n,m))\n",
      "    \n",
      "    for i in range (n):\n",
      "        \n",
      "        for j in range(m):\n",
      "            a =matrizA[i,:]\n",
      "            b =matrizB[:,j] \n",
      "            #print \"a\",a, \"i\", i\n",
      "            #print \"b\",b, \"j\", j\n",
      "            c=[x*y for x,y in zip(a,b)]\n",
      "            #print c\n",
      "            Mmult[i,j]=np.sum(c)\n",
      "    \n",
      "    return Mmult\n",
      "    "
     ],
     "language": "python",
     "metadata": {},
     "outputs": [],
     "prompt_number": 9
    },
    {
     "cell_type": "heading",
     "level": 3,
     "metadata": {},
     "source": [
      "4) Metodo- Ajuste de los datos a una parabola (fit)"
     ]
    },
    {
     "cell_type": "heading",
     "level": 4,
     "metadata": {},
     "source": [
      "    Con este metodo se verifica que los datos no tengan ruido. Para esto llevo acabo dos metodos El primero hace un fit con $curve_fit$ y el segundo con $np.polyfit$.\n",
      "\n",
      "El que  se  esta implementando en el metodo es el de $np.polyfit$ ."
     ]
    },
    {
     "cell_type": "heading",
     "level": 4,
     "metadata": {},
     "source": [
      "- curve_fit :"
     ]
    },
    {
     "cell_type": "code",
     "collapsed": false,
     "input": [
      "def parabola(t, *p):\n",
      "    \n",
      "    a, b, c, d = p\n",
      "    y=np.zeros(t.shape)      \n",
      "    indices=np.abs(t) <b\n",
      "    y[indices]=(a*(1-(((t[indices]-c)/b)**2))+d)\n",
      "    return y"
     ],
     "language": "python",
     "metadata": {},
     "outputs": [],
     "prompt_number": 10
    },
    {
     "cell_type": "code",
     "collapsed": false,
     "input": [
      "def fit1(t, *p, texp, yexp): #texp & yexp son los del experimento\n",
      "    po=[]\n",
      "    coeff, cov = curve_fit(parabola,tE, yE, p0)\n",
      "    \n",
      "    "
     ],
     "language": "python",
     "metadata": {},
     "outputs": [
      {
       "ename": "SyntaxError",
       "evalue": "invalid syntax (<ipython-input-11-b0cfcf29b833>, line 1)",
       "output_type": "pyerr",
       "traceback": [
        "\u001b[0;36m  File \u001b[0;32m\"<ipython-input-11-b0cfcf29b833>\"\u001b[0;36m, line \u001b[0;32m1\u001b[0m\n\u001b[0;31m    def fit1(t, *p, texp, yexp): #texp & yexp son los del experimento\u001b[0m\n\u001b[0m                       ^\u001b[0m\n\u001b[0;31mSyntaxError\u001b[0m\u001b[0;31m:\u001b[0m invalid syntax\n"
       ]
      }
     ],
     "prompt_number": 11
    },
    {
     "cell_type": "heading",
     "level": 4,
     "metadata": {},
     "source": [
      "- np.polyfit: "
     ]
    },
    {
     "cell_type": "code",
     "collapsed": false,
     "input": [
      "def poly(t,y):\n",
      "    coeficientes=np.polyfit(t,y,2)\n",
      "    polinomio=np.poly1d(coeficientes)\n",
      "    yfit=polinomio(t)\n",
      "    #print coeficientes\n",
      "    return coeficientes\n",
      "    #print polinomio"
     ],
     "language": "python",
     "metadata": {},
     "outputs": [],
     "prompt_number": 12
    },
    {
     "cell_type": "heading",
     "level": 3,
     "metadata": {},
     "source": [
      "Algoritmo de Cholesky"
     ]
    },
    {
     "cell_type": "code",
     "collapsed": false,
     "input": [
      "def cholesky(matrixA, i,j):\n",
      "    L=np.zeros((i,j))\n",
      "    for n in range(i):\n",
      "        for m in range(j):\n",
      "            if(n==m):\n",
      "                k=1\n",
      "                sumajj=0\n",
      "                for k in range(j-1):\n",
      "                    sumajj=sumajj+(L[j,k]**2)\n",
      "            L[n,m]=(matrixA[m,m]-sumajj)**2\n",
      "            \n",
      "    for n in range(i):\n",
      "        for m in range(j):\n",
      "            if(n<m):\n",
      "                k=1\n",
      "                sumaij=0\n",
      "                for k in range(j-1):\n",
      "                    sumaij=sumaij+(L[i,k]*L[j,k])\n",
      "            L[n,m]=(1/L[m,m])*(matrixA[n,m]-sumaij)        "
     ],
     "language": "python",
     "metadata": {},
     "outputs": [],
     "prompt_number": 19
    },
    {
     "cell_type": "heading",
     "level": 1,
     "metadata": {},
     "source": [
      "Solucion del metodo"
     ]
    },
    {
     "cell_type": "heading",
     "level": 4,
     "metadata": {},
     "source": [
      "Acontinuacion se encuentra el metodo implementado en donde $G$ es la matrix:\n",
      "\\begin{equation}\n",
      "    G_{ij}=\n",
      "    \\begin{bmatrix}\n",
      "    1 & t_{0} & t_{0}^{2}\\\\\n",
      "    .& .&.\\\\\n",
      "    .& .&.\\\\\n",
      "    .& .&.\\\\\n",
      "    1 & t_{len(t)-1} & t_{len(t)-1}^{2}\\\\\n",
      "    \\end{bmatrix}\n",
      "\\end{equation}\n",
      "\n",
      "Para resolver el sistema se realizan las siguientes operaciones:\n",
      "    "
     ]
    },
    {
     "cell_type": "code",
     "collapsed": false,
     "input": [
      "for  j in range (1):# hasta el  archivo 10000 // len(f)\n",
      "    archivo=np.loadtxt(f[j]) \n",
      "    #print archivo\n",
      "    t=archivo[:,0]\n",
      "    y=archivo[:,1]\n",
      "    fit=poly(t,y)\n",
      "    #print fit, len(fit)\n",
      "    if (0< fit[2]<1.5):\n",
      "       j=0\n",
      "       maxi=len(t)\n",
      "       Mtx=np.zeros([maxi,3]) # Matriz G\n",
      "       for j  in range (maxi):\n",
      "            Mtx[j,0]=1\n",
      "            Mtx[j,1]=t[j]\n",
      "            Mtx[j,2]=(t[j]**2)/2\n",
      "            #print Mtx \n",
      "       \n",
      "       maxj= len(Mtx[0])\n",
      "       #print maxi, maxj\n",
      "       Gtran= traspuesta(Mtx, maxi, maxj) # traspuesta de la Mariz G\n",
      "       #print Gtran \n",
      "       m= len(Gtran)\n",
      "       #print m \n",
      "       A=mulpMatriz(Gtran, Mtx, m, maxj)  #multiplica G^{t}*G\n",
      "       #print \"despues de multiplicar\", A\n",
      "       k=0 \n",
      "       bprim=np.zeros(3) \n",
      "    \n",
      "       for k in range (3):\n",
      "            b=Gtran[k,:]\n",
      "            c=[z*h for z,h in zip(b,y)]  #multiplica G[k,:]*y\n",
      "            bprim[k]=np.sum(c)\n",
      "            \n",
      "       #print bprim    \n",
      "       #print len(A), len(A[0])\n",
      "       cholesky(A, len(A),len(A[0]))\n",
      "        "
     ],
     "language": "python",
     "metadata": {},
     "outputs": [
      {
       "ename": "IndexError",
       "evalue": "index 3 is out of bounds for axis 0 with size 3",
       "output_type": "pyerr",
       "traceback": [
        "\u001b[0;31m---------------------------------------------------------------------------\u001b[0m\n\u001b[0;31mIndexError\u001b[0m                                Traceback (most recent call last)",
        "\u001b[0;32m<ipython-input-20-884cefdcc133>\u001b[0m in \u001b[0;36m<module>\u001b[0;34m()\u001b[0m\n\u001b[1;32m     34\u001b[0m        \u001b[0;31m#print bprim\u001b[0m\u001b[0;34m\u001b[0m\u001b[0;34m\u001b[0m\u001b[0m\n\u001b[1;32m     35\u001b[0m        \u001b[0;31m#print len(A), len(A[0])\u001b[0m\u001b[0;34m\u001b[0m\u001b[0;34m\u001b[0m\u001b[0m\n\u001b[0;32m---> 36\u001b[0;31m        \u001b[0mcholesky\u001b[0m\u001b[0;34m(\u001b[0m\u001b[0mA\u001b[0m\u001b[0;34m,\u001b[0m \u001b[0mlen\u001b[0m\u001b[0;34m(\u001b[0m\u001b[0mA\u001b[0m\u001b[0;34m)\u001b[0m\u001b[0;34m,\u001b[0m\u001b[0mlen\u001b[0m\u001b[0;34m(\u001b[0m\u001b[0mA\u001b[0m\u001b[0;34m[\u001b[0m\u001b[0;36m0\u001b[0m\u001b[0;34m]\u001b[0m\u001b[0;34m)\u001b[0m\u001b[0;34m)\u001b[0m\u001b[0;34m\u001b[0m\u001b[0m\n\u001b[0m\u001b[1;32m     37\u001b[0m \u001b[0;34m\u001b[0m\u001b[0m\n",
        "\u001b[0;32m<ipython-input-19-0381d71b9b3b>\u001b[0m in \u001b[0;36mcholesky\u001b[0;34m(matrixA, i, j)\u001b[0m\n\u001b[1;32m      7\u001b[0m                 \u001b[0msumajj\u001b[0m\u001b[0;34m=\u001b[0m\u001b[0;36m0\u001b[0m\u001b[0;34m\u001b[0m\u001b[0m\n\u001b[1;32m      8\u001b[0m                 \u001b[0;32mfor\u001b[0m \u001b[0mk\u001b[0m \u001b[0;32min\u001b[0m \u001b[0mrange\u001b[0m\u001b[0;34m(\u001b[0m\u001b[0mj\u001b[0m\u001b[0;34m-\u001b[0m\u001b[0;36m1\u001b[0m\u001b[0;34m)\u001b[0m\u001b[0;34m:\u001b[0m\u001b[0;34m\u001b[0m\u001b[0m\n\u001b[0;32m----> 9\u001b[0;31m                     \u001b[0msumajj\u001b[0m\u001b[0;34m=\u001b[0m\u001b[0msumajj\u001b[0m\u001b[0;34m+\u001b[0m\u001b[0;34m(\u001b[0m\u001b[0mL\u001b[0m\u001b[0;34m[\u001b[0m\u001b[0mj\u001b[0m\u001b[0;34m,\u001b[0m\u001b[0mk\u001b[0m\u001b[0;34m]\u001b[0m\u001b[0;34m**\u001b[0m\u001b[0;36m2\u001b[0m\u001b[0;34m)\u001b[0m\u001b[0;34m\u001b[0m\u001b[0m\n\u001b[0m\u001b[1;32m     10\u001b[0m             \u001b[0mL\u001b[0m\u001b[0;34m[\u001b[0m\u001b[0mn\u001b[0m\u001b[0;34m,\u001b[0m\u001b[0mm\u001b[0m\u001b[0;34m]\u001b[0m\u001b[0;34m=\u001b[0m\u001b[0;34m(\u001b[0m\u001b[0mmatrixA\u001b[0m\u001b[0;34m[\u001b[0m\u001b[0mm\u001b[0m\u001b[0;34m,\u001b[0m\u001b[0mm\u001b[0m\u001b[0;34m]\u001b[0m\u001b[0;34m-\u001b[0m\u001b[0msumajj\u001b[0m\u001b[0;34m)\u001b[0m\u001b[0;34m**\u001b[0m\u001b[0;36m2\u001b[0m\u001b[0;34m\u001b[0m\u001b[0m\n\u001b[1;32m     11\u001b[0m \u001b[0;34m\u001b[0m\u001b[0m\n",
        "\u001b[0;31mIndexError\u001b[0m: index 3 is out of bounds for axis 0 with size 3"
       ]
      }
     ],
     "prompt_number": 20
    },
    {
     "cell_type": "code",
     "collapsed": false,
     "input": [
      "\n",
      "\n",
      "            "
     ],
     "language": "python",
     "metadata": {},
     "outputs": [],
     "prompt_number": 20
    },
    {
     "cell_type": "code",
     "collapsed": false,
     "input": [],
     "language": "python",
     "metadata": {},
     "outputs": [],
     "prompt_number": 15
    },
    {
     "cell_type": "code",
     "collapsed": false,
     "input": [],
     "language": "python",
     "metadata": {},
     "outputs": []
    }
   ],
   "metadata": {}
  }
 ]
}