{
 "metadata": {
  "name": "NatalyCastillo_hw4"
 },
 "nbformat": 3,
 "nbformat_minor": 0,
 "worksheets": [
  {
   "cells": [
    {
     "cell_type": "code",
     "collapsed": false,
     "input": [
      "% pylab inline\n",
      "import numpy as np\n",
      "import csv\n",
      "import sys\n",
      "import os.path\n",
      "import glob\n",
      "from scipy.optimize import curve_fit\n",
      "sys.path.append ('../hw_4/Brahe-3141-f')\n"
     ],
     "language": "python",
     "metadata": {},
     "outputs": [
      {
       "output_type": "stream",
       "stream": "stdout",
       "text": [
        "\n",
        "Welcome to pylab, a matplotlib-based Python environment [backend: module://IPython.zmq.pylab.backend_inline].\n",
        "For more information, type 'help(pylab)'.\n"
       ]
      }
     ],
     "prompt_number": 6
    },
    {
     "cell_type": "heading",
     "level": 3,
     "metadata": {},
     "source": [
      "se importan todos los archivos $.dat$ en un array llamada f. "
     ]
    },
    {
     "cell_type": "code",
     "collapsed": false,
     "input": [
      "f=glob.glob('*.dat')\n",
      "print type(f), len(f)\n",
      "show()"
     ],
     "language": "python",
     "metadata": {},
     "outputs": [
      {
       "output_type": "stream",
       "stream": "stdout",
       "text": [
        "<type 'list'> 1000\n"
       ]
      }
     ],
     "prompt_number": 7
    },
    {
     "cell_type": "heading",
     "level": 1,
     "metadata": {},
     "source": [
      "Funciones:"
     ]
    },
    {
     "cell_type": "heading",
     "level": 3,
     "metadata": {},
     "source": [
      "1) Traspone matrices"
     ]
    },
    {
     "cell_type": "code",
     "collapsed": false,
     "input": [
      "def traspuesta(Matriz, i, j): \n",
      "    tranMatx=np.zeros((j,i))\n",
      "    for m in range(j):\n",
      "        for k in range(i):\n",
      "            tranMatx[m,k]=Matriz[k,m]\n",
      "   \n",
      "    return tranMatx"
     ],
     "language": "python",
     "metadata": {},
     "outputs": [],
     "prompt_number": 8
    },
    {
     "cell_type": "heading",
     "level": 3,
     "metadata": {},
     "source": [
      "2) Multiplica matrices"
     ]
    },
    {
     "cell_type": "code",
     "collapsed": false,
     "input": [
      "def mulpMatriz(matrizA, matrizB, n, m):\n",
      "    \n",
      "    Mmult=np.zeros((n,m))\n",
      "    \n",
      "    for i in range (n):\n",
      "        \n",
      "        for j in range(m):\n",
      "            a =matrizA[i,:]\n",
      "            b =matrizB[:,j] \n",
      "            print \"a\",a, \"i\", i\n",
      "            print \"b\",b, \"j\", j\n",
      "            c=[x*y for x,y in zip(a,b)]\n",
      "            #print c\n",
      "            Mmult[i,j]=np.sum(c)\n",
      "    \n",
      "    return Mmult\n",
      "    "
     ],
     "language": "python",
     "metadata": {},
     "outputs": [],
     "prompt_number": 9
    },
    {
     "cell_type": "heading",
     "level": 3,
     "metadata": {},
     "source": [
      "4) Metodo- Ajuste de los datos a una parabola (fit)"
     ]
    },
    {
     "cell_type": "heading",
     "level": 4,
     "metadata": {},
     "source": [
      "    Con este metodo se verifica que los datos no tengan ruido. Para esto llevo acabo dos metodos El primero hace un fit con $curve_fit$ y el segundo con $np.polyfit$.\n",
      "\n",
      "El que  se  esta implementando en el metodo es el de $np.polyfit$ ."
     ]
    },
    {
     "cell_type": "heading",
     "level": 4,
     "metadata": {},
     "source": [
      "- curve_fit :"
     ]
    },
    {
     "cell_type": "code",
     "collapsed": false,
     "input": [
      "def parabola(t, *p):\n",
      "    \n",
      "    a, b, c, d = p\n",
      "    y=np.zeros(t.shape)      \n",
      "    indices=np.abs(t) <b\n",
      "    y[indices]=(a*(1-(((t[indices]-c)/b)**2))+d)\n",
      "    return y"
     ],
     "language": "python",
     "metadata": {},
     "outputs": [],
     "prompt_number": 10
    },
    {
     "cell_type": "code",
     "collapsed": false,
     "input": [
      "def fit1(t, *p, texp, yexp): #texp & yexp son los del experimento\n",
      "    po=[]\n",
      "    coeff, cov = curve_fit(parabola,tE, yE, p0)\n",
      "    \n",
      "    "
     ],
     "language": "python",
     "metadata": {},
     "outputs": [
      {
       "ename": "SyntaxError",
       "evalue": "invalid syntax (<ipython-input-11-b0cfcf29b833>, line 1)",
       "output_type": "pyerr",
       "traceback": [
        "\u001b[0;36m  File \u001b[0;32m\"<ipython-input-11-b0cfcf29b833>\"\u001b[0;36m, line \u001b[0;32m1\u001b[0m\n\u001b[0;31m    def fit1(t, *p, texp, yexp): #texp & yexp son los del experimento\u001b[0m\n\u001b[0m                       ^\u001b[0m\n\u001b[0;31mSyntaxError\u001b[0m\u001b[0;31m:\u001b[0m invalid syntax\n"
       ]
      }
     ],
     "prompt_number": 11
    },
    {
     "cell_type": "heading",
     "level": 4,
     "metadata": {},
     "source": [
      "- np.polyfit: "
     ]
    },
    {
     "cell_type": "code",
     "collapsed": false,
     "input": [
      "def poly(t,y):\n",
      "    coeficientes=np.polyfit(t,y,2)\n",
      "    polinomio=np.poly1d(coeficientes)\n",
      "    yfit=polinomio(t)\n",
      "    #print coeficientes\n",
      "    return coeficientes\n",
      "    #print polinomio"
     ],
     "language": "python",
     "metadata": {},
     "outputs": [],
     "prompt_number": 12
    },
    {
     "cell_type": "heading",
     "level": 1,
     "metadata": {},
     "source": [
      "Solucion del metodo"
     ]
    },
    {
     "cell_type": "heading",
     "level": 4,
     "metadata": {},
     "source": [
      "Acontinuacion se encuentra el metodo implementado en donde $G$ es la matrix:\n",
      "\\begin{equation}\n",
      "    G_{ij}=\n",
      "    \\begin{bmatrix}\n",
      "    1 & t_{0} & t_{0}^{2}\\\\\n",
      "    .& .&.\\\\\n",
      "    .& .&.\\\\\n",
      "    .& .&.\\\\\n",
      "    1 & t_{len(t)-1} & t_{len(t)-1}^{2}\\\\\n",
      "    \\end{bmatrix}\n",
      "\\end{equation}\n",
      "\n",
      "Para resolver el sistema se realizan las siguientes operaciones:\n",
      "    "
     ]
    },
    {
     "cell_type": "code",
     "collapsed": false,
     "input": [
      "for  j in range (1):# hasta el  archivo 10000 // len(f)\n",
      "    archivo=np.loadtxt(f[j]) \n",
      "    #print archivo\n",
      "    t=archivo[:,0]\n",
      "    y=archivo[:,1]\n",
      "    fit=poly(t,y)\n",
      "    #print fit, len(fit)\n",
      "    if (0< fit[2]<1.5):\n",
      "       j=0\n",
      "       maxi=len(t)\n",
      "       Mtx=np.zeros([maxi,3]) # Matriz G\n",
      "       for j  in range (maxi):\n",
      "            Mtx[j,0]=1\n",
      "            Mtx[j,1]=t[j]\n",
      "            Mtx[j,2]=(t[j]**2)/2\n",
      "            #print Mtx \n",
      "       \n",
      "       maxj= len(Mtx[0])\n",
      "       #print maxi, maxj\n",
      "       Gtran= traspuesta(Mtx, maxi, maxj) # traspuesta de la Mariz G\n",
      "       #print Gtran \n",
      "       m= len(Gtran)\n",
      "       #print m \n",
      "       mulpMatriz(Gtran, Mtx, m, maxj)  #multiplica G^{t}*G\n",
      "       print \"despues de multiplicar\"\n",
      "       k=0 \n",
      "       bprim=np.zeros(3) \n",
      "    \n",
      "       for k in range (3):\n",
      "            b=Gtran[k,:]\n",
      "            c=[z*h for z,h in zip(b,y)]  #multiplica G^{t}*G\n",
      "            bprim[k]=np.sum(c)\n",
      "            \n",
      "       print bprim\n",
      "            \n",
      "       \n",
      "        "
     ],
     "language": "python",
     "metadata": {},
     "outputs": [
      {
       "output_type": "stream",
       "stream": "stdout",
       "text": [
        "a [ 1.  1.  1.  1.  1.  1.  1.  1.  1.  1.  1.  1.  1.  1.  1.  1.  1.  1.\n",
        "  1.  1.  1.  1.  1.  1.  1.  1.  1.  1.  1.  1.  1.  1.  1.  1.  1.  1.\n",
        "  1.  1.] i 0\n",
        "b [ 1.  1.  1.  1.  1.  1.  1.  1.  1.  1.  1.  1.  1.  1.  1.  1.  1.  1.\n",
        "  1.  1.  1.  1.  1.  1.  1.  1.  1.  1.  1.  1.  1.  1.  1.  1.  1.  1.\n",
        "  1.  1.] j 0\n",
        "a [ 1.  1.  1.  1.  1.  1.  1.  1.  1.  1.  1.  1.  1.  1.  1.  1.  1.  1.\n",
        "  1.  1.  1.  1.  1.  1.  1.  1.  1.  1.  1.  1.  1.  1.  1.  1.  1.  1.\n",
        "  1.  1.] i 0\n",
        "b [ 0.        0.108108  0.216216  0.324324  0.432432  0.540541  0.648649\n",
        "  0.756757  0.864865  0.972973  1.081081  1.189189  1.297297  1.405405\n",
        "  1.513514  1.621622  1.72973   1.837838  1.945946  2.054054  2.162162\n",
        "  2.27027   2.378378  2.486486  2.594595  2.702703  2.810811  2.918919\n",
        "  3.027027  3.135135  3.243243  3.351351  3.459459  3.567568  3.675676\n",
        "  3.783784  3.891892  4.      ] j 1\n",
        "a [ 1.  1.  1.  1.  1.  1.  1.  1.  1.  1.  1.  1.  1.  1.  1.  1.  1.  1.\n",
        "  1.  1.  1.  1.  1.  1.  1.  1.  1.  1.  1.  1.  1.  1.  1.  1.  1.  1.\n",
        "  1.  1.] i 0\n",
        "b [  0.00000000e+00   5.84366983e-03   2.33746793e-02   5.25930285e-02\n",
        "   9.34987173e-02   1.46092286e-01   2.10372763e-01   2.86340579e-01\n",
        "   3.73995734e-01   4.73338229e-01   5.84368064e-01   7.07085239e-01\n",
        "   8.41489753e-01   9.87581607e-01   1.14536231e+00   1.31482896e+00\n",
        "   1.49598294e+00   1.68882426e+00   1.89335292e+00   2.10956892e+00\n",
        "   2.33747226e+00   2.57706294e+00   2.82834096e+00   3.09130631e+00\n",
        "   3.36596161e+00   3.65230175e+00   3.95032924e+00   4.26004406e+00\n",
        "   4.58144623e+00   4.91453573e+00   5.25931258e+00   5.61577676e+00\n",
        "   5.98392829e+00   6.36377072e+00   6.75529703e+00   7.15851068e+00\n",
        "   7.57341167e+00   8.00000000e+00] j 2\n",
        "a [ 0.        0.108108  0.216216  0.324324  0.432432  0.540541  0.648649\n",
        "  0.756757  0.864865  0.972973  1.081081  1.189189  1.297297  1.405405\n",
        "  1.513514  1.621622  1.72973   1.837838  1.945946  2.054054  2.162162\n",
        "  2.27027   2.378378  2.486486  2.594595  2.702703  2.810811  2.918919\n",
        "  3.027027  3.135135  3.243243  3.351351  3.459459  3.567568  3.675676\n",
        "  3.783784  3.891892  4.      ] i 1\n",
        "b [ 1.  1.  1.  1.  1.  1.  1.  1.  1.  1.  1.  1.  1.  1.  1.  1.  1.  1.\n",
        "  1.  1.  1.  1.  1.  1.  1.  1.  1.  1.  1.  1.  1.  1.  1.  1.  1.  1.\n",
        "  1.  1.] j 0\n",
        "a [ 0.        0.108108  0.216216  0.324324  0.432432  0.540541  0.648649\n",
        "  0.756757  0.864865  0.972973  1.081081  1.189189  1.297297  1.405405\n",
        "  1.513514  1.621622  1.72973   1.837838  1.945946  2.054054  2.162162\n",
        "  2.27027   2.378378  2.486486  2.594595  2.702703  2.810811  2.918919\n",
        "  3.027027  3.135135  3.243243  3.351351  3.459459  3.567568  3.675676\n",
        "  3.783784  3.891892  4.      ] i 1\n",
        "b [ 0.        0.108108  0.216216  0.324324  0.432432  0.540541  0.648649\n",
        "  0.756757  0.864865  0.972973  1.081081  1.189189  1.297297  1.405405\n",
        "  1.513514  1.621622  1.72973   1.837838  1.945946  2.054054  2.162162\n",
        "  2.27027   2.378378  2.486486  2.594595  2.702703  2.810811  2.918919\n",
        "  3.027027  3.135135  3.243243  3.351351  3.459459  3.567568  3.675676\n",
        "  3.783784  3.891892  4.      ] j 1\n",
        "a [ 0.        0.108108  0.216216  0.324324  0.432432  0.540541  0.648649\n",
        "  0.756757  0.864865  0.972973  1.081081  1.189189  1.297297  1.405405\n",
        "  1.513514  1.621622  1.72973   1.837838  1.945946  2.054054  2.162162\n",
        "  2.27027   2.378378  2.486486  2.594595  2.702703  2.810811  2.918919\n",
        "  3.027027  3.135135  3.243243  3.351351  3.459459  3.567568  3.675676\n",
        "  3.783784  3.891892  4.      ] i 1\n",
        "b [  0.00000000e+00   5.84366983e-03   2.33746793e-02   5.25930285e-02\n",
        "   9.34987173e-02   1.46092286e-01   2.10372763e-01   2.86340579e-01\n",
        "   3.73995734e-01   4.73338229e-01   5.84368064e-01   7.07085239e-01\n",
        "   8.41489753e-01   9.87581607e-01   1.14536231e+00   1.31482896e+00\n",
        "   1.49598294e+00   1.68882426e+00   1.89335292e+00   2.10956892e+00\n",
        "   2.33747226e+00   2.57706294e+00   2.82834096e+00   3.09130631e+00\n",
        "   3.36596161e+00   3.65230175e+00   3.95032924e+00   4.26004406e+00\n",
        "   4.58144623e+00   4.91453573e+00   5.25931258e+00   5.61577676e+00\n",
        "   5.98392829e+00   6.36377072e+00   6.75529703e+00   7.15851068e+00\n",
        "   7.57341167e+00   8.00000000e+00] j 2\n",
        "a [  0.00000000e+00   5.84366983e-03   2.33746793e-02   5.25930285e-02\n",
        "   9.34987173e-02   1.46092286e-01   2.10372763e-01   2.86340579e-01\n",
        "   3.73995734e-01   4.73338229e-01   5.84368064e-01   7.07085239e-01\n",
        "   8.41489753e-01   9.87581607e-01   1.14536231e+00   1.31482896e+00\n",
        "   1.49598294e+00   1.68882426e+00   1.89335292e+00   2.10956892e+00\n",
        "   2.33747226e+00   2.57706294e+00   2.82834096e+00   3.09130631e+00\n",
        "   3.36596161e+00   3.65230175e+00   3.95032924e+00   4.26004406e+00\n",
        "   4.58144623e+00   4.91453573e+00   5.25931258e+00   5.61577676e+00\n",
        "   5.98392829e+00   6.36377072e+00   6.75529703e+00   7.15851068e+00\n",
        "   7.57341167e+00   8.00000000e+00] i 2\n",
        "b [ 1.  1.  1.  1.  1.  1.  1.  1.  1.  1.  1.  1.  1.  1.  1.  1.  1.  1.\n",
        "  1.  1.  1.  1.  1.  1.  1.  1.  1.  1.  1.  1.  1.  1.  1.  1.  1.  1.\n",
        "  1.  1.] j 0\n",
        "a [  0.00000000e+00   5.84366983e-03   2.33746793e-02   5.25930285e-02\n",
        "   9.34987173e-02   1.46092286e-01   2.10372763e-01   2.86340579e-01\n",
        "   3.73995734e-01   4.73338229e-01   5.84368064e-01   7.07085239e-01\n",
        "   8.41489753e-01   9.87581607e-01   1.14536231e+00   1.31482896e+00\n",
        "   1.49598294e+00   1.68882426e+00   1.89335292e+00   2.10956892e+00\n",
        "   2.33747226e+00   2.57706294e+00   2.82834096e+00   3.09130631e+00\n",
        "   3.36596161e+00   3.65230175e+00   3.95032924e+00   4.26004406e+00\n",
        "   4.58144623e+00   4.91453573e+00   5.25931258e+00   5.61577676e+00\n",
        "   5.98392829e+00   6.36377072e+00   6.75529703e+00   7.15851068e+00\n",
        "   7.57341167e+00   8.00000000e+00] i 2\n",
        "b [ 0.        0.108108  0.216216  0.324324  0.432432  0.540541  0.648649\n",
        "  0.756757  0.864865  0.972973  1.081081  1.189189  1.297297  1.405405\n",
        "  1.513514  1.621622  1.72973   1.837838  1.945946  2.054054  2.162162\n",
        "  2.27027   2.378378  2.486486  2.594595  2.702703  2.810811  2.918919\n",
        "  3.027027  3.135135  3.243243  3.351351  3.459459  3.567568  3.675676\n",
        "  3.783784  3.891892  4.      ] j 1\n",
        "a [  0.00000000e+00   5.84366983e-03   2.33746793e-02   5.25930285e-02\n",
        "   9.34987173e-02   1.46092286e-01   2.10372763e-01   2.86340579e-01\n",
        "   3.73995734e-01   4.73338229e-01   5.84368064e-01   7.07085239e-01\n",
        "   8.41489753e-01   9.87581607e-01   1.14536231e+00   1.31482896e+00\n",
        "   1.49598294e+00   1.68882426e+00   1.89335292e+00   2.10956892e+00\n",
        "   2.33747226e+00   2.57706294e+00   2.82834096e+00   3.09130631e+00\n",
        "   3.36596161e+00   3.65230175e+00   3.95032924e+00   4.26004406e+00\n",
        "   4.58144623e+00   4.91453573e+00   5.25931258e+00   5.61577676e+00\n",
        "   5.98392829e+00   6.36377072e+00   6.75529703e+00   7.15851068e+00\n",
        "   7.57341167e+00   8.00000000e+00]"
       ]
      },
      {
       "output_type": "stream",
       "stream": "stdout",
       "text": [
        " i 2\n",
        "b [  0.00000000e+00   5.84366983e-03   2.33746793e-02   5.25930285e-02\n",
        "   9.34987173e-02   1.46092286e-01   2.10372763e-01   2.86340579e-01\n",
        "   3.73995734e-01   4.73338229e-01   5.84368064e-01   7.07085239e-01\n",
        "   8.41489753e-01   9.87581607e-01   1.14536231e+00   1.31482896e+00\n",
        "   1.49598294e+00   1.68882426e+00   1.89335292e+00   2.10956892e+00\n",
        "   2.33747226e+00   2.57706294e+00   2.82834096e+00   3.09130631e+00\n",
        "   3.36596161e+00   3.65230175e+00   3.95032924e+00   4.26004406e+00\n",
        "   4.58144623e+00   4.91453573e+00   5.25931258e+00   5.61577676e+00\n",
        "   5.98392829e+00   6.36377072e+00   6.75529703e+00   7.15851068e+00\n",
        "   7.57341167e+00   8.00000000e+00] j 2\n",
        "despues de multiplicar\n",
        "0\n",
        "1\n",
        "2\n",
        "[  883.369267    2086.06893458  2907.48450265]\n"
       ]
      }
     ],
     "prompt_number": 28
    },
    {
     "cell_type": "code",
     "collapsed": false,
     "input": [
      "print bprim\n",
      "\n",
      "            "
     ],
     "language": "python",
     "metadata": {},
     "outputs": [
      {
       "output_type": "stream",
       "stream": "stdout",
       "text": [
        "[ 883.369267    1.5         3.      ]\n"
       ]
      }
     ],
     "prompt_number": 22
    },
    {
     "cell_type": "code",
     "collapsed": false,
     "input": [],
     "language": "python",
     "metadata": {},
     "outputs": [],
     "prompt_number": 67
    },
    {
     "cell_type": "code",
     "collapsed": false,
     "input": [
      "for i in range (1): #hasta 360\n",
      "    theta=111.2 #i/10 #\n",
      "    for  j in range (1):#hasta 180\n",
      "        phi=195.2 #j/10 #\n",
      "        nomArch=\"experiment_theta_\"+str(theta)+\"_phi_\"+str(phi)+\".dat\"\n",
      "        if(os.path.exists(nomArch)):            \n",
      "            archivo=loadtxt(nomArch)\n",
      "            print archivo\n",
      "            t=archivo[:,0]\n",
      "            y=archivo[:,1]\n",
      "            #print len(t)\n",
      "            j=0\n",
      "            maxi=len(t)\n",
      "            Mtx=np.zeros([maxi,3])\n",
      "            for j  in range (maxi):\n",
      "                Mtx[j,0]=1\n",
      "                Mtx[j,1]=t[j]\n",
      "                Mtx[j,2]=(t[j]**2)/2\n",
      "            print Mtx # Matriz G\n",
      "            maxj= len(Mtx[0])\n",
      "            print maxi, maxj\n",
      "            Gtran= traspuesta(Mtx, maxi, maxj)\n",
      "            print Gtran # traspuesta de la Mariz G\n",
      "            \n",
      "            mulpMatriz(Gtran, Mtx, maxi)"
     ],
     "language": "python",
     "metadata": {},
     "outputs": []
    }
   ],
   "metadata": {}
  }
 ]
}